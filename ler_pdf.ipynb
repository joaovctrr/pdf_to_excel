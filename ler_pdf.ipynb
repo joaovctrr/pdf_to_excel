{
  "nbformat": 4,
  "nbformat_minor": 0,
  "metadata": {
    "colab": {
      "provenance": [],
      "authorship_tag": "ABX9TyMmUyJ4HMwJ1SFa2aGTJx0n",
      "include_colab_link": true
    },
    "kernelspec": {
      "name": "python3",
      "display_name": "Python 3"
    },
    "language_info": {
      "name": "python"
    }
  },
  "cells": [
    {
      "cell_type": "markdown",
      "metadata": {
        "id": "view-in-github",
        "colab_type": "text"
      },
      "source": [
        "<a href=\"https://colab.research.google.com/github/joaovctrr/pdf_to_excel/blob/main/ler_pdf.ipynb\" target=\"_parent\"><img src=\"https://colab.research.google.com/assets/colab-badge.svg\" alt=\"Open In Colab\"/></a>"
      ]
    },
    {
      "cell_type": "code",
      "execution_count": 95,
      "metadata": {
        "id": "-rDKVqf3vtP2"
      },
      "outputs": [],
      "source": [
        "# !pip install tabula-py"
      ]
    },
    {
      "cell_type": "code",
      "source": [
        "import tabula\n",
        "import pandas as pd\n",
        "import os\n",
        "import re"
      ],
      "metadata": {
        "id": "rp1jWeGjv0PJ"
      },
      "execution_count": 128,
      "outputs": []
    },
    {
      "cell_type": "code",
      "source": [
        "pdf = tabula.read_pdf('arquivo.pdf', pages = 'all')"
      ],
      "metadata": {
        "collapsed": true,
        "id": "5OE9VREqv6UP"
      },
      "execution_count": null,
      "outputs": []
    },
    {
      "cell_type": "code",
      "source": [
        "pdf"
      ],
      "metadata": {
        "collapsed": true,
        "id": "pAV42H4UwBNX"
      },
      "execution_count": null,
      "outputs": []
    },
    {
      "cell_type": "code",
      "source": [
        "print(type(pdf))"
      ],
      "metadata": {
        "collapsed": true,
        "id": "KrikScJPwaj9"
      },
      "execution_count": null,
      "outputs": []
    },
    {
      "cell_type": "code",
      "source": [
        "df = pdf[2]"
      ],
      "metadata": {
        "id": "LT42Zl6Vxo8O"
      },
      "execution_count": 104,
      "outputs": []
    },
    {
      "cell_type": "code",
      "source": [
        "df"
      ],
      "metadata": {
        "collapsed": true,
        "id": "LLqbASt8x2Fy"
      },
      "execution_count": null,
      "outputs": []
    },
    {
      "cell_type": "code",
      "source": [
        "df_completo = pd.concat(pdf, ignore_index=False)\n"
      ],
      "metadata": {
        "id": "hDPXy6kgx22j"
      },
      "execution_count": 106,
      "outputs": []
    },
    {
      "cell_type": "code",
      "source": [
        "df_completo"
      ],
      "metadata": {
        "collapsed": true,
        "id": "G2Nm3b7KyhTJ"
      },
      "execution_count": null,
      "outputs": []
    },
    {
      "cell_type": "code",
      "source": [
        "df_completo.columns = df_completo.columns.str.replace('\\r', ' ')\n",
        "\n",
        "for col in df_completo.columns:\n",
        "    if df_completo[col].dtype == 'object':\n",
        "        df_completo[col] = df_completo[col].str.replace('\\r', ' ')\n"
      ],
      "metadata": {
        "id": "TAc4js66yh2z"
      },
      "execution_count": 108,
      "outputs": []
    },
    {
      "cell_type": "code",
      "source": [
        "df_completo"
      ],
      "metadata": {
        "collapsed": true,
        "id": "VW_rqEuj0ZGu"
      },
      "execution_count": null,
      "outputs": []
    },
    {
      "cell_type": "code",
      "source": [
        "df = df_completo"
      ],
      "metadata": {
        "id": "zz-gi4HH0fmn"
      },
      "execution_count": 110,
      "outputs": []
    },
    {
      "cell_type": "code",
      "source": [
        "print(df['Unnamed: 0'])\n"
      ],
      "metadata": {
        "collapsed": true,
        "id": "Cds-73a_0gXc"
      },
      "execution_count": null,
      "outputs": []
    },
    {
      "cell_type": "code",
      "source": [
        "df['Unnamed: 0'] = df['Unnamed: 0'].astype(str)"
      ],
      "metadata": {
        "id": "q4PrqFHw1NAl"
      },
      "execution_count": 112,
      "outputs": []
    },
    {
      "cell_type": "code",
      "source": [
        "df['Unnamed: 0']"
      ],
      "metadata": {
        "collapsed": true,
        "id": "iCp36W7B1Oa8"
      },
      "execution_count": null,
      "outputs": []
    },
    {
      "cell_type": "code",
      "source": [
        "dados_capturados"
      ],
      "metadata": {
        "collapsed": true,
        "id": "bhJ_3Vxr3u9b"
      },
      "execution_count": null,
      "outputs": []
    },
    {
      "cell_type": "code",
      "source": [
        "diretorio_pdfs = '.'\n",
        "\n",
        "\n",
        "nomes_pdfs = []\n",
        "\n",
        "for filename in os.listdir(diretorio_pdfs):\n",
        "    if filename.endswith('.pdf'):\n",
        "        nomes_pdfs.append(os.path.join(diretorio_pdfs, filename))\n",
        "\n",
        "dfs = []\n",
        "\n",
        "for pdf_file in nomes_pdfs:\n",
        "    try:\n",
        "                df = tabula.read_pdf(pdf_file, pages='all', pandas_options={'header': None})\n",
        "        dfs.extend(df)\n",
        "    except Exception as e:\n",
        "        print(f\"Erro ao processar o arquivo {pdf_file}: {str(e)}\")\n",
        "\n",
        "df_final = pd.concat(dfs, ignore_index=True)\n",
        "\n",
        "# Inicializa listas para armazenar as informações\n",
        "nomes = []\n",
        "locais = []\n",
        "numeros = []\n",
        "municipios = []\n",
        "pontos_referencia = []\n",
        "\n",
        "# Variáveis auxiliares para acompanhar o nome completo e o número atual\n",
        "nome_atual = ''\n",
        "numero_atual = ''\n",
        "\n",
        "# Expressão regular para identificar números de endereço no formato XX ou XXXX (dois ou quatro dígitos)\n",
        "regex_numero = re.compile(r'\\b\\d{2,4}\\b')\n",
        "\n",
        "for index, row in df_final.iterrows():\n",
        "    if isinstance(row[0], str):\n",
        "        if 'PONTO DE REFERÊNCIA' in row[0]:\n",
        "            partes = row[0].split('PONTO DE REFERÊNCIA')\n",
        "            if len(partes) > 1:\n",
        "                pontos_referencia.append(partes[1].strip())\n",
        "                if nome_atual:\n",
        "                    nomes.append(nome_atual.strip())\n",
        "                nome_atual = ''\n",
        "        elif 'LOCAL (AV., RUA, ETC)' in row[0]:\n",
        "            partes = row[0].split('LOCAL (AV., RUA, ETC)')\n",
        "            if len(partes) > 1:\n",
        "                locais.append(partes[1].strip())\n",
        "        elif 'NÚMERO' in row[0]:\n",
        "            partes = row[0].split('NÚMERO')\n",
        "            if len(partes) > 1:\n",
        "                numero = partes[1].strip()\n",
        "                # Verifica se o número corresponde ao padrão de endereço esperado\n",
        "                if regex_numero.match(numero):\n",
        "                    numeros.append(numero)\n",
        "                    if nome_atual:\n",
        "                        nomes.append(nome_atual.strip())\n",
        "                else:\n",
        "                    numero_atual = numero\n",
        "                nome_atual = ''\n",
        "        elif 'MUNICÍPIO' in row[0]:\n",
        "            partes = row[0].split('MUNICÍPIO')\n",
        "            if len(partes) > 1:\n",
        "                municipios.append(partes[1].strip())\n",
        "        elif 'NOME COMPLETO' in row[0]:\n",
        "            partes = row[0].split('NOME COMPLETO')\n",
        "            if len(partes) > 1:\n",
        "                if nome_atual:\n",
        "                    nome_atual += ', ' + partes[1].strip()\n",
        "                else:\n",
        "                    nome_atual = partes[1].strip()\n",
        "\n",
        "\n",
        "if nome_atual:\n",
        "    nomes.append(nome_atual.strip())\n",
        "    if not numeros:\n",
        "        numeros.append(numero_atual)\n",
        "\n",
        "max_length = max(len(nomes), len(locais), len(numeros), len(municipios), len(pontos_referencia))\n",
        "\n",
        "# Preenche as listas com valores vazios para terem o mesmo comprimento\n",
        "nomes += [''] * (max_length - len(nomes))\n",
        "locais += [''] * (max_length - len(locais))\n",
        "numeros += [''] * (max_length - len(numeros))\n",
        "municipios += [''] * (max_length - len(municipios))\n",
        "pontos_referencia += [''] * (max_length - len(pontos_referencia))\n",
        "\n",
        "# Cria um DataFrame com as informações capturadas\n",
        "dados_capturados = pd.DataFrame({\n",
        "    'NOME COMPLETO': nomes,\n",
        "    'LOCAL': locais,\n",
        "    'NÚMERO': numeros,\n",
        "    'MUNICÍPIO': municipios,\n",
        "    'PONTO DE REFERÊNCIA': pontos_referencia\n",
        "})\n",
        "\n",
        "nome_excel = './dados_extraidos.xlsx'\n",
        "\n",
        "# Salva o DataFrame em um arquivo Excel\n",
        "dados_capturados.to_excel(nome_excel, index=False, engine='openpyxl')\n",
        "\n",
        "print(f'Dados salvos com sucesso em {nome_excel}')\n"
      ],
      "metadata": {
        "colab": {
          "base_uri": "https://localhost:8080/"
        },
        "id": "hvlVOfQVJLwk",
        "outputId": "e62a2927-16d0-4b30-aa3f-e980e68a429e"
      },
      "execution_count": 133,
      "outputs": [
        {
          "output_type": "stream",
          "name": "stderr",
          "text": [
            "WARNING:tabula.backend:Got stderr: Jun 14, 2024 7:21:17 PM org.apache.pdfbox.pdmodel.font.PDType1Font <init>\n",
            "WARNING: Using fallback font LiberationSans for base font Symbol\n",
            "Jun 14, 2024 7:21:17 PM org.apache.pdfbox.pdmodel.font.PDType1Font <init>\n",
            "WARNING: Using fallback font LiberationSans for base font ZapfDingbats\n",
            "\n",
            "WARNING:tabula.backend:Got stderr: Jun 14, 2024 7:21:20 PM org.apache.pdfbox.pdmodel.font.PDType1Font <init>\n",
            "WARNING: Using fallback font LiberationSans for base font Symbol\n",
            "Jun 14, 2024 7:21:20 PM org.apache.pdfbox.pdmodel.font.PDType1Font <init>\n",
            "WARNING: Using fallback font LiberationSans for base font ZapfDingbats\n",
            "\n",
            "WARNING:tabula.backend:Got stderr: Jun 14, 2024 7:21:23 PM org.apache.pdfbox.pdmodel.font.PDType1Font <init>\n",
            "WARNING: Using fallback font LiberationSans for base font Symbol\n",
            "Jun 14, 2024 7:21:23 PM org.apache.pdfbox.pdmodel.font.PDType1Font <init>\n",
            "WARNING: Using fallback font LiberationSans for base font ZapfDingbats\n",
            "\n",
            "WARNING:tabula.backend:Got stderr: Jun 14, 2024 7:21:26 PM org.apache.pdfbox.pdmodel.font.PDType1Font <init>\n",
            "WARNING: Using fallback font LiberationSans for base font Symbol\n",
            "Jun 14, 2024 7:21:26 PM org.apache.pdfbox.pdmodel.font.PDType1Font <init>\n",
            "WARNING: Using fallback font LiberationSans for base font ZapfDingbats\n",
            "\n",
            "WARNING:tabula.backend:Got stderr: Jun 14, 2024 7:21:29 PM org.apache.pdfbox.pdmodel.font.PDType1Font <init>\n",
            "WARNING: Using fallback font LiberationSans for base font Symbol\n",
            "Jun 14, 2024 7:21:29 PM org.apache.pdfbox.pdmodel.font.PDType1Font <init>\n",
            "WARNING: Using fallback font LiberationSans for base font ZapfDingbats\n",
            "\n"
          ]
        },
        {
          "output_type": "stream",
          "name": "stdout",
          "text": [
            "Dados salvos com sucesso em ./dados_extraidos.xlsx\n"
          ]
        }
      ]
    }
  ]
}